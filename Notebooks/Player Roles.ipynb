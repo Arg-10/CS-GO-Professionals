{
 "cells": [
  {
   "attachments": {},
   "cell_type": "markdown",
   "id": "d1bbbdbb",
   "metadata": {},
   "source": [
    "This code loads the updated players dataset, cleans 'Headshot %' column by removing the '%' symbol and converting them to float type. Then it defines conditions for each role in a dictionary called conditions using lambda functions, which are applied to the DataFrame using the loc method, and assigns a role to each player in a new column called 'Role'. Finally, it prints the number of players in each role.\n",
    "\n",
    "The roles are defined as follows:\n",
    "\n",
    "    Entry Fragger: Players with a K/D ratio greater than or equal to 1.0, kills per round greater than or equal to 0.7, and headshot percentage greater than or equal to 25%.\n",
    "    AWPer: Players with a K/D ratio greater than or equal to 0.9, kills per round greater than or equal to 0.6, headshot percentage greater than or equal to 30%, and assists per round greater than or equal to 0.1.\n",
    "    Lurker: Players with a K/D ratio greater than or equal to 0.9, kills per round greater than or equal to 0.6, deaths per round less than or equal to 0.6, and assists per round greater than or equal to 0.1.\n",
    "    Support: Players with assists per round greater than or equal to 0.14 and deaths per round less than or equal to 0.75.\n",
    "    In-Game Leader: Players with assists per round greater than or equal to 0.17 and at least 20 maps played."
   ]
  },
  {
   "cell_type": "code",
   "execution_count": 38,
   "id": "da414dd2",
   "metadata": {},
   "outputs": [
    {
     "name": "stdout",
     "output_type": "stream",
     "text": [
      "AWPer             393\n",
      "Support           332\n",
      "Entry Fragger      42\n",
      "In-Game Leader     17\n",
      "Lurker             14\n",
      "Name: Role, dtype: int64\n"
     ]
    }
   ],
   "source": [
    "import pandas as pd\n",
    "\n",
    "# Load the dataset\n",
    "data = pd.read_csv('Updated_Scrape_Data.csv')\n",
    "\n",
    "# remove the '%' symbol from the 'Headshot %' column\n",
    "data['Headshot %'] = data['Headshot %'].str.rstrip('%').astype('float') / 100.0\n",
    "\n",
    "# Define the conditions for each role\n",
    "conditions = {\n",
    "    'Entry Fragger': lambda x: (x['K/D Ratio'] >= 1.0) & (x['Kills / Round'] >= 0.7) & (x['Headshot %'] >= 0.25),\n",
    "    'AWPer': lambda x: (x['K/D Ratio'] >= 0.9) & (x['Kills / Round'] >= 0.6) & (x['Headshot %'] >= 0.3) & (x['Assists / Round'] >= 0.1),\n",
    "    'Lurker': lambda x: (x['K/D Ratio'] >= 0.9) & (x['Kills / Round'] >= 0.6) & (x['Deaths / Round'] <= 0.6) & (x['Assists / Round'] >= 0.1),\n",
    "    'Support': lambda x: (x['Assists / Round'] >= 0.14) & (x['Deaths / Round'] <= 0.75),\n",
    "    'In-Game Leader': lambda x: (x['Assists / Round'] >= 0.17) & (x['Maps Played'] >= 20)\n",
    "}\n",
    "\n",
    "for role, condition in conditions.items():\n",
    "    data.loc[condition(data), 'Role'] = role\n",
    "\n",
    "# Print the number of players in each role\n",
    "print(data['Role'].value_counts())"
   ]
  },
  {
   "cell_type": "code",
   "execution_count": 39,
   "id": "72c251d2",
   "metadata": {},
   "outputs": [],
   "source": [
    "# Stores the dataframe in a csv file\n",
    "data.to_csv('player_roles.csv', index=False)"
   ]
  }
 ],
 "metadata": {
  "kernelspec": {
   "display_name": "Python 3 (ipykernel)",
   "language": "python",
   "name": "python3"
  },
  "language_info": {
   "codemirror_mode": {
    "name": "ipython",
    "version": 3
   },
   "file_extension": ".py",
   "mimetype": "text/x-python",
   "name": "python",
   "nbconvert_exporter": "python",
   "pygments_lexer": "ipython3",
   "version": "3.9.7"
  }
 },
 "nbformat": 4,
 "nbformat_minor": 5
}
